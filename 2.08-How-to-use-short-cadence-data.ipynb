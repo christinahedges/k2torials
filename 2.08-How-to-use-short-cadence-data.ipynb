{
 "cells": [
  {
   "cell_type": "markdown",
   "metadata": {},
   "source": [
    "# How to use short cadence Kepler/K2 data with lightkurve"
   ]
  },
  {
   "cell_type": "markdown",
   "metadata": {},
   "source": [
    "Kepler and K2 have taken data of certain extremely useful targets in 'short cadence'. These targets have a only a minute between each successive measurement, where as long cadence data has half an hour. \n",
    "\n",
    "Using the short cadence data works just the same as using long candence data. However, there are two key points to remember:\n",
    "\n",
    "* Short cadence files are naturally bigger than long cadence files. They take longer to download and more memory to store. \n",
    "* For Kepler, short cadence files are split into three 'months'. To work with the data you will have to download each of these months."
   ]
  },
  {
   "cell_type": "code",
   "execution_count": null,
   "metadata": {},
   "outputs": [
    {
     "name": "stdout",
     "output_type": "stream",
     "text": [
      "Found 1 File(s)\n",
      "Downloading URL https://mast.stsci.edu/api/v0/download/file?uri=mast:Kepler/url/missions/kepler/target_pixel_files/0050/005034333/kplr005034333-2009322144938_spd-targ.fits.gz to ./mastDownload/Kepler/kplr005034333_sc_Q000100000000300000/kplr005034333-2009322144938_spd-targ.fits.gz ..."
     ]
    }
   ],
   "source": [
    "from lightkurve import KeplerTargetPixelFile\n",
    "tpf = KeplerTargetPixelFile.from_archive(5034333, cadence='short', quarter=3, month=2)"
   ]
  },
  {
   "cell_type": "code",
   "execution_count": null,
   "metadata": {},
   "outputs": [],
   "source": []
  }
 ],
 "metadata": {
  "kernelspec": {
   "display_name": "Python 3",
   "language": "python",
   "name": "python3"
  },
  "language_info": {
   "codemirror_mode": {
    "name": "ipython",
    "version": 3
   },
   "file_extension": ".py",
   "mimetype": "text/x-python",
   "name": "python",
   "nbconvert_exporter": "python",
   "pygments_lexer": "ipython3",
   "version": "3.6.5"
  }
 },
 "nbformat": 4,
 "nbformat_minor": 2
}
