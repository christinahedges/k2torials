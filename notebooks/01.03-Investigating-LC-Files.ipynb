{
 "cells": [
  {
   "cell_type": "markdown",
   "metadata": {},
   "source": [
    "<!--BOOK_INFORMATION-->\n",
    "<img align=\"left\" style=\"padding-right:10px;\" src=\"figures/kep.png\" height=75 width=75>\n",
    "*This notebook uses routines from [PyKE](http://github.com/keplerGO/PyKE/) which is documented [here](http://pyke.keplerscience.org/). You can find these notebooks on [GitHub](https://github.com/christinahedges/k2torials)*"
   ]
  },
  {
   "cell_type": "markdown",
   "metadata": {},
   "source": [
    "<!--NAVIGATION-->\n",
    "< [Folding a Light Curve](01.03-Folding-A-Lightcurve.ipynb) | [Contents](index.ipynb) | [Limb Darkening](01.05-Limb-Darkening.ipynb) >"
   ]
  },
  {
   "cell_type": "markdown",
   "metadata": {},
   "source": [
    "# What are Light Curve Files?"
   ]
  },
  {
   "cell_type": "markdown",
   "metadata": {},
   "source": [
    "In the previous notebook we looked at Target Pixel Files, which show how each individual pixel from the spacecraft behaved. Now we are going to look at a light curve file from MAST. These have been built by MAST from TPFs by summing up the pixels in the aperture and correcting for spacecraft systematics and cosmic rays. \n",
    "\n",
    "(Some more details of how TPFs are turned into light curve files can be found in [Demystifying Kepler Data](https://arxiv.org/pdf/1207.3093.pdf).)\n",
    "\n",
    "Let's take a look at the light curve file now."
   ]
  },
  {
   "cell_type": "code",
   "execution_count": 5,
   "metadata": {},
   "outputs": [
    {
     "data": {
      "text/plain": [
       "['TIME',\n",
       " 'TIMECORR',\n",
       " 'CADENCENO',\n",
       " 'SAP_FLUX',\n",
       " 'SAP_FLUX_ERR',\n",
       " 'SAP_BKG',\n",
       " 'SAP_BKG_ERR',\n",
       " 'PDCSAP_FLUX',\n",
       " 'PDCSAP_FLUX_ERR',\n",
       " 'SAP_QUALITY',\n",
       " 'PSF_CENTR1',\n",
       " 'PSF_CENTR1_ERR',\n",
       " 'PSF_CENTR2',\n",
       " 'PSF_CENTR2_ERR',\n",
       " 'MOM_CENTR1',\n",
       " 'MOM_CENTR1_ERR',\n",
       " 'MOM_CENTR2',\n",
       " 'MOM_CENTR2_ERR',\n",
       " 'POS_CORR1',\n",
       " 'POS_CORR2']"
      ]
     },
     "execution_count": 5,
     "metadata": {},
     "output_type": "execute_result"
    }
   ],
   "source": [
    "from astropy.io import fits\n",
    "h = fits.open('data/kplr006922244-2010078095331_llc.fits')\n",
    "h[1].data.names"
   ]
  },
  {
   "cell_type": "markdown",
   "metadata": {},
   "source": [
    "The same as with the target pixel file, the data is in the second extension of the fits file. Note that the TIME in these files is given in Barycentric Julian Date - 2454833.  \n",
    "\n",
    "This time we have two types of 'FLUX' to choose from. *SAP_FLUX* and *PDCSAP_FLUX*. These are defined as:\n",
    "\n",
    "* SAP FLUX: Simple Aperture Photometry Flux. \n",
    "* PDCSAP FLUX: Pre-search Data Conditioning SAP Flux. \n",
    "\n",
    "SAP flux is built using the aperture we saw in the previous file, by summing all of the flux in the pixels that fall within the aperture. The PDCSAP flux is built in the same aperture, and then further corrected based on the behavior of other sources on the focal plane. Trends that are common with many nearby stars are fit and removed Cotrending Basis Vectors (CBVs). (You can read more about this process in [Demystifying Kepler Data](https://arxiv.org/pdf/1207.3093.pdf).)\n",
    "\n",
    "Let's plot both:"
   ]
  },
  {
   "cell_type": "code",
   "execution_count": 14,
   "metadata": {},
   "outputs": [
    {
     "data": {
      "text/plain": [
       "<matplotlib.text.Text at 0x1127d1b38>"
      ]
     },
     "execution_count": 14,
     "metadata": {},
     "output_type": "execute_result"
    },
    {
     "data": {
      "image/png": "[encoded data removed]",
      "text/plain": [
       "<matplotlib.figure.Figure at 0x1126126a0>"
      ]
     },
     "metadata": {},
     "output_type": "display_data"
    }
   ],
   "source": [
    "import matplotlib.pyplot as plt\n",
    "%matplotlib inline\n",
    "plt.plot(h[1].data['TIME'],h[1].data['SAP_FLUX'],label='SAP Flux')\n",
    "plt.plot(h[1].data['TIME'],h[1].data['PDCSAP_FLUX'],label='PDCSAP Flux')\n",
    "plt.legend()\n",
    "plt.xlabel('Time BJD-2454833 (days)')\n",
    "plt.ylabel('Counts (e$^-$/s)')"
   ]
  },
  {
   "cell_type": "markdown",
   "metadata": {},
   "source": [
    "These two fluxes are very different, with the *PDCSAP_FLUX* having more counts and no long term trend. We will look more into the details of which 'FLUX' we should use for each application in a later notebook. For now, we will use the PDCSAP flux. This should be a more accurate representation of the true flux of this star."
   ]
  },
  {
   "cell_type": "markdown",
   "metadata": {},
   "source": [
    "<!--NAVIGATION-->\n",
    "< [Folding a Light Curve](01.03-Folding-A-Lightcurve.ipynb) | [Contents](index.ipynb) | [Limb Darkening](01.05-Limb-Darkening.ipynb) >"
   ]
  }
 ],
 "metadata": {
  "kernelspec": {
   "display_name": "Python 3",
   "language": "python",
   "name": "python3"
  },
  "language_info": {
   "codemirror_mode": {
    "name": "ipython",
    "version": 3
   },
   "file_extension": ".py",
   "mimetype": "text/x-python",
   "name": "python",
   "nbconvert_exporter": "python",
   "pygments_lexer": "ipython3",
   "version": "3.6.2"
  }
 },
 "nbformat": 4,
 "nbformat_minor": 2
}
