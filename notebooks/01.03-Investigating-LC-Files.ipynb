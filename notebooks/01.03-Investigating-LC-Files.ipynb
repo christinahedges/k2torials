{
 "cells": [
  {
   "cell_type": "markdown",
   "metadata": {},
   "source": [
    "<!--BOOK_INFORMATION-->\n",
    "<img align=\"left\" style=\"padding-right:10px;\" src=\"figures/kep.png\" height=75 width=75>\n",
    "*This notebook uses routines from [PyKE](http://github.com/keplerGO/PyKE/) which is documented [here](http://pyke.keplerscience.org/). You can find these notebooks on [GitHub](https://github.com/christinahedges/k2torials)*"
   ]
  },
  {
   "cell_type": "markdown",
   "metadata": {},
   "source": [
    "<!--NAVIGATION-->\n",
    "< [What are Target Pixel Files?](01.02-Investigating-Target-Pixel-Files.ipynb) | [Contents](index.ipynb) | [Folding a Light Curve](01.04-Folding-A-Lightcurve.ipynb) >"
   ]
  },
  {
   "cell_type": "markdown",
   "metadata": {},
   "source": [
    "# What are Light Curve Files?"
   ]
  },
  {
   "cell_type": "markdown",
   "metadata": {},
   "source": [
    "In the previous notebook we looked at Target Pixel Files, which show how each individual pixel from the spacecraft behaved. Now we are going to look at a light curve file. There are two ways to access these. You can either generate them yourself from a TPF or you can download them from MAST. The ones on MAST have been built from TPFs by summing up the pixels in the aperture and correcting for spacecraft systematics and cosmic rays. They are also smaller in file size than the TPFs.\n",
    "\n",
    "(Some more details of how TPFs are turned into light curve files can be found in [Demystifying Kepler Data](https://arxiv.org/pdf/1207.3093.pdf).)\n",
    "\n",
    "Firstly, let's see how to build one from the target pixel file. Let's use the aperture from the pipeline by setting 'kepler-pipeline' as the aperture_mask."
   ]
  },
  {
   "cell_type": "code",
   "execution_count": 4,
   "metadata": {},
   "outputs": [
    {
     "name": "stdout",
     "output_type": "stream",
     "text": [
      "The autoreload extension is already loaded. To reload it, use:\n",
      "  %reload_ext autoreload\n",
      "1114543\n"
     ]
    }
   ],
   "source": [
    "from pyke import targetpixelfile as tpf\n",
    "import matplotlib.pyplot as plt\n",
    "%load_ext autoreload\n",
    "%autoreload 2\n",
    "%matplotlib inline\n",
    "#Build the TPF\n",
    "h = tpf.KeplerTargetPixelFile('data/kplr006922244-2010078095331_lpd-targ.fits.gz',\n",
    "                              aperture_mask='kepler-pipeline',quality_mask='zero')\n",
    "#Convert the target pixel file into a light curve:\n",
    "lc = h.to_lightcurve()\n",
    "#lc.plot()\n"
   ]
  },
  {
   "cell_type": "markdown",
   "metadata": {},
   "source": [
    "We have set the *quality_bitmask* keyword to 'hard' in this case so that any pixels with quality flags are removed. You might want to use one of the other settings so that fewer cadences are removed. This has created a simple aperture photometry light curve from our target pixel file. We can make the same thing much more quickly, with the smaller Light Curve files available from MAST."
   ]
  },
  {
   "cell_type": "code",
   "execution_count": 9,
   "metadata": {},
   "outputs": [
    {
     "data": {
      "text/plain": [
       "['SAP_FLUX', 'PDCSAP_FLUX']"
      ]
     },
     "execution_count": 9,
     "metadata": {},
     "output_type": "execute_result"
    }
   ],
   "source": [
    "lc._flux_types()"
   ]
  },
  {
   "cell_type": "code",
   "execution_count": 8,
   "metadata": {},
   "outputs": [],
   "source": [
    "from pyke import lightcurve\n",
    "lc = lightcurve.KeplerLightCurveFile('data/kplr006922244-2010078095331_llc.fits',quality_mask='hard')\n",
    "#lc.plot()"
   ]
  },
  {
   "cell_type": "markdown",
   "metadata": {},
   "source": [
    "Now that we're using the MAST light curve we have two types of 'FLUX' to choose from. *SAP_FLUX* and *PDCSAP_FLUX*. These are defined as:\n",
    "\n",
    "* SAP FLUX: Simple Aperture Photometry Flux. \n",
    "* PDCSAP FLUX: Pre-search Data Conditioning SAP Flux. \n",
    "\n",
    "SAP flux is built using the aperture we saw in the previous file, by summing all of the flux in the pixels that fall within the aperture. The PDCSAP flux is built in the same aperture, and then further corrected based on the behavior of other sources on the focal plane. Trends that are common with many nearby stars are fit and removed Cotrending Basis Vectors (CBVs). (You can read more about this process in [Demystifying Kepler Data](https://arxiv.org/pdf/1207.3093.pdf).)\n"
   ]
  },
  {
   "cell_type": "markdown",
   "metadata": {},
   "source": [
    "These two fluxes are very different, with the *PDCSAP_FLUX* having more counts and no long term trend. We will look more into the details of which 'FLUX' we should use for each application in a later notebook. For now, we will use the PDCSAP flux. This should be a more accurate representation of the true flux of this star."
   ]
  },
  {
   "cell_type": "markdown",
   "metadata": {},
   "source": [
    "<!--NAVIGATION-->\n",
    "< [What are Target Pixel Files?](01.02-Investigating-Target-Pixel-Files.ipynb) | [Contents](index.ipynb) | [Folding a Light Curve](01.04-Folding-A-Lightcurve.ipynb) >"
   ]
  }
 ],
 "metadata": {
  "kernelspec": {
   "display_name": "Python 3",
   "language": "python",
   "name": "python3"
  },
  "language_info": {
   "codemirror_mode": {
    "name": "ipython",
    "version": 3
   },
   "file_extension": ".py",
   "mimetype": "text/x-python",
   "name": "python",
   "nbconvert_exporter": "python",
   "pygments_lexer": "ipython3",
   "version": "3.6.2"
  }
 },
 "nbformat": 4,
 "nbformat_minor": 2
}
