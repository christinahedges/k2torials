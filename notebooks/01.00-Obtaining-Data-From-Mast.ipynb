{
 "cells": [
  {
   "cell_type": "markdown",
   "metadata": {},
   "source": [
    "<!--BOOK_INFORMATION-->\n",
    "<img align=\"left\" style=\"padding-right:10px;\" src=\"figures/kep.png\" height=75 width=75>\n",
    "*This notebook uses routines from [PyKE](http://github.com/keplerGO/PyKE/) which is documented [here](http://pyke.keplerscience.org/). You can find these notebooks on [GitHub](https://github.com/christinahedges/k2torials)*"
   ]
  },
  {
   "cell_type": "markdown",
   "metadata": {},
   "source": [
    "<!--NAVIGATION-->\n",
    "< [Preface](00.00-Preface.ipynb) | [Contents](index.ipynb) | [What are Target Pixel Files?](01.01-Investigating-Target-Pixel-Files.ipynb) >"
   ]
  },
  {
   "cell_type": "markdown",
   "metadata": {
    "collapsed": true
   },
   "source": [
    "# Obtaining Data from MAST"
   ]
  },
  {
   "cell_type": "markdown",
   "metadata": {
    "collapsed": true
   },
   "source": [
    "Kepler and K2 both store their data online at the Mikulski Archive for Space Telescopes ([MAST](https://archive.stsci.edu/kepler/)). There are many data products available on MAST, some of which we will cover in these tutorials. For now we will focus on Target Pixel Files (TPFs).\n",
    "\n",
    "TPFs are small images usually no more than $\\approx$ 10 pixels on either side. They have one frame per 'cadence'. A cadence is simply a read out time on Kepler. Kepler has a Long Cadence mode of $\\approx$ 30 minutes, and so each TPF usually contains one frame every 30 minutes. (There is also the Short Cadence, which has a read out every 2 minutes.)"
   ]
  },
  {
   "cell_type": "markdown",
   "metadata": {
    "collapsed": true
   },
   "source": [
    "### Finding the right data\n",
    "\n",
    "MAST has a search form for users to look for the data that's relevant to them. The search form for Kepler is [here](https://archive.stsci.edu/kepler/data_search/search.php). The form is shown below. You can read more about each of the fields [here](https://archive.stsci.edu/kepler/help/search_help.html). A few of the key useful fields are:\n",
    "\n",
    "* Target Name: This can be any name recognised by astronomical database [simbad](http://simbad.u-strasbg.fr/simbad/)\n",
    "* Right Ascension and Declination: The position in the sky in degrees\n",
    "* Kepler ID: This is usually a Kepler Input Catalogue Number KIC 8462852\n",
    "* KEP Mag: The magnitude for the source predicted in the Kepler band pass. This is where you would specify a brightness range for targets. (e.g. To search for only targets with a magnitude between 12 and 13 type \"12..13\" into this field.)\n",
    "* Quarter: Kepler data is split into 3 month long \"Quarters\". You may wish to only download a subset of the data, one way to do so is to specify a single quarter.\n",
    "\n",
    "There are several 'user-specified' fields available in the drop down menu. If you would like data from a particular Kepler module or of stars with a particular colour, you can specify that here. "
   ]
  },
  {
   "cell_type": "markdown",
   "metadata": {
    "collapsed": true
   },
   "source": [
    "![](figures/mastform.png)"
   ]
  },
  {
   "cell_type": "markdown",
   "metadata": {},
   "source": [
    "Using the form above I've obtained the data from Quarter 4 for star KIC 6922244. This star has a confirmed planet around it known as Kepler 8-b. You can either go through the form and obtain your own planet, or you can use the target pixel file saved in 'data'. In the next tutorial we'll take a look at it. By selecting the Target Pixel File (TPF) after searching we can take a look at each individual pixel."
   ]
  },
  {
   "cell_type": "markdown",
   "metadata": {},
   "source": [
    "<!--NAVIGATION-->\n",
    "< [Preface](00.00-Preface.ipynb) | [Contents](index.ipynb) | [What are Target Pixel Files?](01.01-Investigating-Target-Pixel-Files.ipynb) >"
   ]
  }
 ],
 "metadata": {
  "kernelspec": {
   "display_name": "Python 3",
   "language": "python",
   "name": "python3"
  },
  "language_info": {
   "codemirror_mode": {
    "name": "ipython",
    "version": 3
   },
   "file_extension": ".py",
   "mimetype": "text/x-python",
   "name": "python",
   "nbconvert_exporter": "python",
   "pygments_lexer": "ipython3",
   "version": "3.6.2"
  }
 },
 "nbformat": 4,
 "nbformat_minor": 2
}
