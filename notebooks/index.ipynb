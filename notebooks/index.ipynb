{
 "cells": [
  {
   "cell_type": "markdown",
   "metadata": {},
   "source": [
    "<!--BOOK_INFORMATION-->\n",
    "<img align=\"left\" style=\"padding-right:10px;\" src=\"figures/kep.png\" height=75 width=75>\n",
    "*This notebook uses routines from [PyKE](http://github.com/keplerGO/PyKE/) which is documented [here](http://pyke.keplerscience.org/). You can find these notebooks on [GitHub](https://github.com/christinahedges/k2torials)*"
   ]
  },
  {
   "cell_type": "markdown",
   "metadata": {},
   "source": [
    "# K2torials"
   ]
  },
  {
   "cell_type": "markdown",
   "metadata": {},
   "source": [
    "\n",
    "### [1. Obtaining Data from MAST](http://nbviewer.jupyter.org/github/christinahedges/k2torials/tree/master/notebooks/01.00-Obtaining-Data-From-Mast.ipynb)\n",
    "- [Investigating Target Pixel Files](http://nbviewer.jupyter.org/github/christinahedges/k2torials/tree/master/notebooks/01.01-Investigating-Target-Pixel-Files.ipynb)\n",
    "- [Investigating Light Curve Files](http://nbviewer.jupyter.org/github/christinahedges/k2torials/tree/master/notebooks/01.02-Investigating-LC-Files.ipynb)\n",
    "- [Folding a Light Curve](http://nbviewer.jupyter.org/github/christinahedges/k2torials/tree/master/notebooks/01.03-Folding-A-Lightcurve.ipynb)\n",
    "- [Fitting a Basic Transit Model](http://nbviewer.jupyter.org/github/christinahedges/k2torials/tree/master/notebooks/01.04-Fitting-A-Basic-Transit-Model.ipynb)\n",
    "- [Which Flux to Use](http://nbviewer.jupyter.org/github/christinahedges/k2torials/tree/master/notebooks/01.13-Which-FLUX-to-use.ipynb)"
   ]
  }
 ],
 "metadata": {
  "kernelspec": {
   "display_name": "Python 3",
   "language": "python",
   "name": "python3"
  },
  "language_info": {
   "codemirror_mode": {
    "name": "ipython",
    "version": 3
   },
   "file_extension": ".py",
   "mimetype": "text/x-python",
   "name": "python",
   "nbconvert_exporter": "python",
   "pygments_lexer": "ipython3",
   "version": "3.6.2"
  }
 },
 "nbformat": 4,
 "nbformat_minor": 2
}
