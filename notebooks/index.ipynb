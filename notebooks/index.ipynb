{
 "cells": [
  {
   "cell_type": "markdown",
   "metadata": {},
   "source": [
    "# K2torials"
   ]
  },
  {
   "cell_type": "markdown",
   "metadata": {},
   "source": [
    "### [Preface](00.00-Preface.ipynb)\n",
    "\n",
    "### [1. Obtaining Data from MAST](01.00-Obtaining-Data-From-Mast.ipynb)\n",
    "- [Investigating Target Pixel Files](01.01-Investigating-Target-Pixel-Files.ipynb)\n",
    "- [Investigating Light Curve Files](01.02-Investigating-LC-Files.ipynb)\n",
    "- [Folding a Light Curve](01.03-Folding-A-Lightcurve.ipynb)\n",
    "- [Limb Darkening](01.04-Limb-Darkening.ipynb)\n",
    "- [Fitting a Basic Transit Model](01.05-Fitting-A-Basic-Transit-Model.ipynb)\n",
    "- [Which Flux to Use](02.03-Contaminants-And-Apertures.ipynb)"
   ]
  }
 ],
 "metadata": {
  "kernelspec": {
   "display_name": "Python 3",
   "language": "python",
   "name": "python3"
  },
  "language_info": {
   "codemirror_mode": {
    "name": "ipython",
    "version": 3
   },
   "file_extension": ".py",
   "mimetype": "text/x-python",
   "name": "python",
   "nbconvert_exporter": "python",
   "pygments_lexer": "ipython3",
   "version": "3.6.2"
  }
 },
 "nbformat": 4,
 "nbformat_minor": 2
}
