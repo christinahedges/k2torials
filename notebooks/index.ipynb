{
 "cells": [
  {
   "cell_type": "markdown",
   "metadata": {},
   "source": [
    "# K2torials"
   ]
  },
  {
   "cell_type": "markdown",
   "metadata": {},
   "source": [
    "### [Preface](http://nbviewer.jupyter.org/github/christinahedges/k2torials/tree/master/notebooks/00.00-Preface.ipynb)\n",
    "\n",
    "### [1. Basics](http://nbviewer.jupyter.org/github/christinahedges/k2torials/tree/master/notebooks/01.00-Basics.ipynb)\n",
    "- [Querying NExSci](http://nbviewer.jupyter.org/github/christinahedges/k2torials/tree/master/notebooks/01.01-Querying-NEXSci.ipynb)\n",
    "- [What are Target Pixel Files?](http://nbviewer.jupyter.org/github/christinahedges/k2torials/tree/master/notebooks/01.02-Investigating-Target-Pixel-Files.ipynb)\n",
    "- [What are Light Curve Files?](http://nbviewer.jupyter.org/github/christinahedges/k2torials/tree/master/notebooks/01.03-Investigating-LC-Files.ipynb)\n",
    "- [Folding a Light Curve](http://nbviewer.jupyter.org/github/christinahedges/k2torials/tree/master/notebooks/01.04-Folding-A-Lightcurve.ipynb)\n",
    "- [Limb Darkening](http://nbviewer.jupyter.org/github/christinahedges/k2torials/tree/master/notebooks/01.05-Limb-Darkening.ipynb)\n",
    "- [Basic Transit Models](http://nbviewer.jupyter.org/github/christinahedges/k2torials/tree/master/notebooks/01.06-Basic-Transit-Model.ipynb)\n",
    "- [Fitting Transit Models with Scipy Minimize](http://nbviewer.jupyter.org/github/christinahedges/k2torials/tree/master/notebooks/01.07-Fitting-With-Scipy-Minimize.ipynb)\n",
    "- [Which Flux to Use](http://nbviewer.jupyter.org/github/christinahedges/k2torials/tree/master/notebooks/02.03-Contaminants-And-Apertures.ipynb)\n"
   ]
  }
 ],
 "metadata": {
  "kernelspec": {
   "display_name": "Python 3",
   "language": "python",
   "name": "python3"
  },
  "language_info": {
   "codemirror_mode": {
    "name": "ipython",
    "version": 3
   },
   "file_extension": ".py",
   "mimetype": "text/x-python",
   "name": "python",
   "nbconvert_exporter": "python",
   "pygments_lexer": "ipython3",
   "version": "3.6.2"
  }
 },
 "nbformat": 4,
 "nbformat_minor": 2
}
