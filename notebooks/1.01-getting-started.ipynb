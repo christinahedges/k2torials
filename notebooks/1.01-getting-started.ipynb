{
 "cells": [
  {
   "cell_type": "markdown",
   "metadata": {},
   "source": [
    "# What is lightkurve?"
   ]
  },
  {
   "cell_type": "markdown",
   "metadata": {},
   "source": [
    "\n",
    "* read our quickstart [here](http://lightkurve.keplerscience.org/tutorials/quickstart.html)\n",
    "* read our installation guidelines [here](http://lightkurve.keplerscience.org/install.html)\n",
    "\n",
    "\n",
    "lightkurve provides ways for you to interface with time series data. This includes working with raw data, (such as Kepler Target Pixel Files) creating lightcurves and processing them to find planets.\n",
    "\n",
    "Lightkurve is general and will work with Kepler, K2 and TESS"
   ]
  },
  {
   "cell_type": "markdown",
   "metadata": {},
   "source": [
    "**lightkurve or PyKE?**\n",
    "\n",
    "lightkurve is a python package with a slick API and lots of tools for you to build your own lightcurve analysis. PyKE provides a way to call these tools from the command line. PyKE is the older package, which some users may be more familiar with.\n",
    "\n",
    "[PyKE](http://github.com/keplerGO/PyKE/) is a set of command line routines to process time series data taken from the Kepler mission and later K2 mission. The full package is documented [here](http://pyke.keplerscience.org/) and can be installed simply with\n",
    "```\n",
    "$ pip install pyketools\n",
    "```"
   ]
  },
  {
   "cell_type": "markdown",
   "metadata": {},
   "source": [
    "## What's in these tutorials?"
   ]
  },
  {
   "cell_type": "markdown",
   "metadata": {},
   "source": [
    "In the first section of these tutorials we'll cover the basics of using lightkurve. This will include getting to grips with the file types and how to load and work with data from both the Kepler and K2 mission. In the second section we will cover some tasks that astronomers might commonly want to do with time series data."
   ]
  },
  {
   "cell_type": "markdown",
   "metadata": {},
   "source": [
    "### Intro to lightkurve\n",
    "\n",
    "* What are `TargetPixelFile` objects?\n",
    "* What are `LightCurve` Objects\n",
    "* What are `LightCurveFile` Objects"
   ]
  },
  {
   "cell_type": "markdown",
   "metadata": {},
   "source": [
    "### Science with lightkurve\n",
    "\n",
    "* How to remove K2 Motion Systematics\n",
    "* How to recover a known planet signal\n",
    "* How to stitch Kepler light curves from different quarters\n",
    "* How to remove Cotrending Basis Vectors (CBVs)\n",
    "* How to do custom aperture photometry\n",
    "* How to identify rolling band/variable background\n",
    "* How to mask data"
   ]
  }
 ],
 "metadata": {
  "kernelspec": {
   "display_name": "Python 3",
   "language": "python",
   "name": "python3"
  },
  "language_info": {
   "codemirror_mode": {
    "name": "ipython",
    "version": 3
   },
   "file_extension": ".py",
   "mimetype": "text/x-python",
   "name": "python",
   "nbconvert_exporter": "python",
   "pygments_lexer": "ipython3",
   "version": "3.6.3"
  }
 },
 "nbformat": 4,
 "nbformat_minor": 2
}
