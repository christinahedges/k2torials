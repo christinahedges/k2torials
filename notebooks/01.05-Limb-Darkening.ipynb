{
 "cells": [
  {
   "cell_type": "markdown",
   "metadata": {},
   "source": [
    "<!--BOOK_INFORMATION-->\n",
    "<img align=\"left\" style=\"padding-right:10px;\" src=\"figures/kep.png\" height=75 width=75>\n",
    "*This notebook uses routines from [PyKE](http://github.com/keplerGO/PyKE/) which is documented [here](http://pyke.keplerscience.org/). You can find these notebooks on [GitHub](https://github.com/christinahedges/k2torials)*"
   ]
  },
  {
   "cell_type": "markdown",
   "metadata": {},
   "source": [
    "<!--NAVIGATION-->\n",
    "< [What are Light Curve Files?](01.04-Investigating-LC-Files.ipynb) | [Contents](index.ipynb) | [Fitting a Basic Transit Model](01.06-Fitting-A-Basic-Transit-Model.ipynb) >"
   ]
  },
  {
   "cell_type": "markdown",
   "metadata": {},
   "source": [
    "# Limb Darkening "
   ]
  },
  {
   "cell_type": "markdown",
   "metadata": {},
   "source": [
    "<!--NAVIGATION-->\n",
    "< [Folding a Light Curve](01.03-Folding-A-Lightcurve.ipynb) | [Contents](index.ipynb) | [Fitting a Basic Transit Model](01.05-Fitting-A-Basic-Transit-Model.ipynb) >"
   ]
  },
  {
   "cell_type": "code",
   "execution_count": 48,
   "metadata": {},
   "outputs": [
    {
     "data": {
      "text/plain": [
       "(0.36, 0.42)"
      ]
     },
     "execution_count": 48,
     "metadata": {},
     "output_type": "execute_result"
    },
    {
     "data": {
      "image/png": "[encoded data removed]",
      "text/plain": [
       "<matplotlib.figure.Figure at 0x106ce0978>"
      ]
     },
     "metadata": {},
     "output_type": "display_data"
    }
   ],
   "source": [
    "from astropy.io import fits\n",
    "import matplotlib.pyplot as plt\n",
    "import numpy as np\n",
    "\n",
    "%matplotlib inline\n",
    "h = fits.open('data/kplr006922244-2010078095331_llc.fits')\n",
    "h[1].data.names\n",
    "t,flux,err=h[1].data['TIME'],h[1].data['PDCSAP_FLUX'],h[1].data['PDCSAP_FLUX_ERR']\n",
    "t,flux,err=t[np.isfinite(flux)],flux[np.isfinite(flux)],err[np.isfinite(err)]\n",
    "\n",
    "\n",
    "per=3.52233911024\n",
    "phase = t/ per %1\n",
    "\n",
    "plt.figure(figsize=(15,3))\n",
    "plt.scatter(phase,flux,s=0.5)\n",
    "plt.xlabel('Phase')\n",
    "plt.ylabel('Counts (e$^-$/s)')\n",
    "plt.xlim(0.36,0.42)"
   ]
  },
  {
   "cell_type": "markdown",
   "metadata": {},
   "source": [
    "In the transit above the curved edges are due to limb darkening. The edges or limbs of the star are darker than the center, causing the transit depth to be shallower at *ingress* and *egress* (the slopes into and out of the transit.) You can read more about limb darkening and its effects [here](limbdarkening).\n",
    "\n",
    "The effect of limb darkening is different depending on the star parameters and the bandpass that you observe in. We can use the package [*LDTK*](https://github.com/hpparvi/ldtk) to calculate the limb darkening parameters for our star.\n",
    "\n",
    "Using the metadata in the header file (also discussed in previous notebooks) we can load in information about the host star. This information is based on the Kepler Input Catalog (KIC) and gives an approximation of the temperature, surface gravity and metallicity."
   ]
  },
  {
   "cell_type": "code",
   "execution_count": 63,
   "metadata": {},
   "outputs": [
    {
     "name": "stdout",
     "output_type": "stream",
     "text": [
      "Star Parameters\n",
      "----------------\n",
      "Mass: 1.13 solMass\n",
      "Radius: 1.45 solRad\n",
      "T_eff: 6225.0 K\n",
      "logg: 4.17\n",
      "FeH: -0.04\n"
     ]
    }
   ],
   "source": [
    "import astropy.units as u\n",
    "from astropy.constants import G\n",
    "teff = h[0].header['TEFF']\n",
    "logg = h[0].header['LOGG']\n",
    "feh = h[0].header['FEH']\n",
    "r= h[0].header['RADIUS']*u.solRad\n",
    "\n",
    "\n",
    "g=((10.**logg)*u.cm/(u.second**2))\n",
    "m=((g*r**2/G).to(u.kg)).to(u.solMass)\n",
    "\n",
    "print('Star Parameters')\n",
    "print('----------------')\n",
    "print('Mass: {:0.3}'.format(m))\n",
    "print('Radius: {:0.3}'.format(r))\n",
    "print('T_eff: {}'.format(teff*u.K))\n",
    "print('logg: {:0.3}'.format(logg))\n",
    "print('FeH: {:0.3}'.format(feh))"
   ]
  },
  {
   "cell_type": "markdown",
   "metadata": {},
   "source": [
    "Using *LDTK* we can calculate the limb darkening coefficients based on these stellar parameters. *ldtk* comes with the *Kepler* bandpass preloaded. \n",
    "\n",
    "*LDTK* will download stellar spectra from an online repository in a grid around our $T_{eff}$, $log(g)$ and FeH parameters. In this case we have chosen points that are within 50K, 0.1 dex in logg and 0.05 dex in FeH. This is $\\approx$40 files and is around $500Mb$ of data. If you don't have the time to run this yourself the code finds the following limb darkening parameters:\n",
    "\n",
    "$u=0.5230\\pm0.0010\\;\\;$\n",
    "$v=0.1218\\pm0.0015$\n",
    " "
   ]
  },
  {
   "cell_type": "code",
   "execution_count": 64,
   "metadata": {},
   "outputs": [
    {
     "data": {
      "text/latex": [
       "u$_1 = 0.5234 \\pm 0.0010\\quad$v$_1 = 0.1212 \\pm 0.0014$"
      ],
      "text/plain": [
       "<IPython.core.display.Latex object>"
      ]
     },
     "metadata": {},
     "output_type": "display_data"
    }
   ],
   "source": [
    "from ldtk import LDPSetCreator, BoxcarFilter, TabulatedFilter\n",
    "from ldtk.filters import kepler\n",
    "from IPython.display import display, Latex\n",
    "sc = LDPSetCreator(teff=(teff,50), logg=(logg,0.1), z=(feh,0.05), filters=[kepler])\n",
    "ps = sc.create_profiles()\n",
    "\n",
    "qc,qe = ps.coeffs_qd()\n",
    "for i,(c,e) in enumerate(zip(qc,qe)):\n",
    "    display(Latex('u$_{i:d} = {c[0]:5.4f} \\pm {e[0]:5.4f}\\quad$'\n",
    "                  'v$_{i:d} = {c[1]:5.4f} \\pm {e[1]:5.4f}$'.format(i=i+1,c=c,e=e)))\n"
   ]
  },
  {
   "cell_type": "code",
   "execution_count": 65,
   "metadata": {},
   "outputs": [
    {
     "data": {
      "text/plain": [
       "array([[-0.08913552,  0.90712858, -0.03923016, -0.14560566]])"
      ]
     },
     "execution_count": 65,
     "metadata": {},
     "output_type": "execute_result"
    }
   ],
   "source": [
    "qc,qe = ps.coeffs_nl()\n",
    "qc"
   ]
  },
  {
   "cell_type": "markdown",
   "metadata": {},
   "source": [
    "<!--NAVIGATION-->\n",
    "< [What are Light Curve Files?](01.04-Investigating-LC-Files.ipynb) | [Contents](index.ipynb) | [Fitting a Basic Transit Model](01.06-Fitting-A-Basic-Transit-Model.ipynb) >"
   ]
  }
 ],
 "metadata": {
  "kernelspec": {
   "display_name": "Python 3",
   "language": "python",
   "name": "python3"
  },
  "language_info": {
   "codemirror_mode": {
    "name": "ipython",
    "version": 3
   },
   "file_extension": ".py",
   "mimetype": "text/x-python",
   "name": "python",
   "nbconvert_exporter": "python",
   "pygments_lexer": "ipython3",
   "version": "3.6.2"
  }
 },
 "nbformat": 4,
 "nbformat_minor": 2
}
