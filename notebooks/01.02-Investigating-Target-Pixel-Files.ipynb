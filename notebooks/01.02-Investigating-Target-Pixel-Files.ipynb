{
 "cells": [
  {
   "cell_type": "markdown",
   "metadata": {},
   "source": [
    "<!--BOOK_INFORMATION-->\n",
    "<img align=\"left\" style=\"padding-right:10px;\" src=\"figures/kep.png\" height=75 width=75>\n",
    "*This notebook uses routines from [PyKE](http://github.com/keplerGO/PyKE/) which is documented [here](http://pyke.keplerscience.org/). You can find these notebooks on [GitHub](https://github.com/christinahedges/k2torials)*"
   ]
  },
  {
   "cell_type": "markdown",
   "metadata": {},
   "source": [
    "<!--NAVIGATION-->\n",
    "< [Querying NExSci](01.01-Querying-NEXSci.ipynb) | [Contents](index.ipynb) | [What are Light Curve Files?](01.03-Investigating-LC-Files.ipynb) >"
   ]
  },
  {
   "cell_type": "markdown",
   "metadata": {},
   "source": [
    "# What are Target Pixel Files?"
   ]
  },
  {
   "cell_type": "markdown",
   "metadata": {
    "collapsed": true
   },
   "source": [
    "From MAST we have obtained a target pixel file. Using PyKE we can take a look at what is inside the file. "
   ]
  },
  {
   "cell_type": "code",
   "execution_count": 67,
   "metadata": {},
   "outputs": [],
   "source": [
    "from pyke import targetpixelfile as tpf\n",
    "h = tpf.KeplerTargetPixelFile('data/kplr006922244-2010078095331_lpd-targ.fits.gz','kepler-pipeline')"
   ]
  },
  {
   "cell_type": "markdown",
   "metadata": {},
   "source": [
    "We've opened the fits file and labeled all the contents as 'h'. Let's take a look at the 'header' of the file, which contains information about the data set."
   ]
  },
  {
   "cell_type": "code",
   "execution_count": 39,
   "metadata": {},
   "outputs": [
    {
     "data": {
      "text/plain": [
       "SIMPLE  =                    T / conforms to FITS standards                     \n",
       "BITPIX  =                    8 / array data type                                \n",
       "NAXIS   =                    0 / number of array dimensions                     \n",
       "EXTEND  =                    T / file contains extensions                       \n",
       "NEXTEND =                    2 / number of standard extensions                  \n",
       "EXTNAME = 'PRIMARY '           / name of extension                              \n",
       "EXTVER  =                    1 / extension version number (not format version)  \n",
       "ORIGIN  = 'NASA/Ames'          / institution responsible for creating this file \n",
       "DATE    = '2015-09-23'         / file creation date.                            \n",
       "CREATOR = '917482 TargetPixelExporterPipelineModule' / pipeline job and program \n",
       "PROCVER = 'svn+ssh://murzim/repo/soc/tags/release/9.3.25 r60410' / SW version   \n",
       "FILEVER = '6.1     '           / file format version                            \n",
       "TIMVERSN= 'OGIP/93-003'        / OGIP memo number for file format               \n",
       "TELESCOP= 'Kepler  '           / telescope                                      \n",
       "INSTRUME= 'Kepler Photometer'  / detector type                                  \n",
       "OBJECT  = 'KIC 6922244'        / string version of target id                    \n",
       "KEPLERID=              6922244 / unique Kepler target identifier                \n",
       "CHANNEL =                   31 / CCD channel                                    \n",
       "SKYGROUP=                   31 / roll-independent location of channel           \n",
       "MODULE  =                   10 / CCD module                                     \n",
       "OUTPUT  =                    3 / CCD output                                     \n",
       "QUARTER =                    4 / Observing quarter                              \n",
       "SEASON  =                    2 / mission season during which data was collected \n",
       "DATA_REL=                   25 / data release version number                    \n",
       "OBSMODE = 'long cadence'       / observing mode                                 \n",
       "MISSION = 'Kepler  '           / Mission name                                   \n",
       "TTABLEID=                   29 / target table id                                \n",
       "RADESYS = 'ICRS    '           / reference frame of celestial coordinates       \n",
       "RA_OBJ  =           281.288120 / [deg] right ascension                          \n",
       "DEC_OBJ =            42.451080 / [deg] declination                              \n",
       "EQUINOX =               2000.0 / equinox of celestial coordinate system         \n",
       "PMRA    =               0.0000 / [arcsec/yr] RA proper motion                   \n",
       "PMDEC   =               0.0000 / [arcsec/yr] Dec proper motion                  \n",
       "PMTOTAL =               0.0000 / [arcsec/yr] total proper motion                \n",
       "PARALLAX=                      / [arcsec] parallax                              \n",
       "GLON    =            71.658900 / [deg] galactic longitude                       \n",
       "GLAT    =            19.012749 / [deg] galactic latitude                        \n",
       "GMAG    =               13.886 / [mag] SDSS g band magnitude                    \n",
       "RMAG    =               13.511 / [mag] SDSS r band magnitude                    \n",
       "IMAG    =               13.424 / [mag] SDSS i band magnitude                    \n",
       "ZMAG    =               13.413 / [mag] SDSS z band magnitude                    \n",
       "D51MAG  =               13.700 / [mag] D51 magnitude,                           \n",
       "JMAG    =               12.576 / [mag] J band magnitude from 2MASS              \n",
       "HMAG    =               12.323 / [mag] H band magnitude from 2MASS              \n",
       "KMAG    =               12.292 / [mag] K band magnitude from 2MASS              \n",
       "KEPMAG  =               13.563 / [mag] Kepler magnitude (Kp)                    \n",
       "GRCOLOR =                0.375 / [mag] (g-r) color, SDSS bands                  \n",
       "JKCOLOR =                0.284 / [mag] (J-K) color, 2MASS bands                 \n",
       "GKCOLOR =                1.594 / [mag] (g-K) color, SDSS g - 2MASS K            \n",
       "TEFF    =                 6225 / [K] Effective temperature                      \n",
       "LOGG    =                4.169 / [cm/s2] log10 surface gravity                  \n",
       "FEH     =               -0.040 / [log10([Fe/H])]  metallicity                   \n",
       "EBMINUSV=                0.096 / [mag] E(B-V) reddening                         \n",
       "AV      =                0.297 / [mag] A_v extinction                           \n",
       "RADIUS  =                1.451 / [solar radii] stellar radius                   \n",
       "TMINDEX =            262064792 / unique 2MASS catalog ID                        \n",
       "SCPID   =            262064792 / unique SCP processing ID                       \n",
       "CHECKSUM= 'HkS5JjR5HjR5HjR5'   / HDU checksum updated 2015-09-23T02:52:42Z      "
      ]
     },
     "execution_count": 39,
     "metadata": {},
     "output_type": "execute_result"
    }
   ],
   "source": [
    "h.header(0)"
   ]
  },
  {
   "cell_type": "markdown",
   "metadata": {},
   "source": [
    "Some parts of this information we already know. For example we know that that 'KEPLERID' is 6922244. Some of this information is based on the Kepler Input Catalog (KIC), such as the temperature, radius and color of the star. Most of the other information is about the telescope itself, such as the module number, and where it was pointing, such as the RA and Dec of the source."
   ]
  },
  {
   "cell_type": "markdown",
   "metadata": {},
   "source": [
    "The actual images the telescope took are in the second extention. Let's take a look at that now. Rather than print all the data, we can just find the column names. These are all explained in more detail in the second extention header (which you can access by typing 'h.header(1)')."
   ]
  },
  {
   "cell_type": "code",
   "execution_count": 40,
   "metadata": {
    "scrolled": false
   },
   "outputs": [
    {
     "data": {
      "text/plain": [
       "XTENSION= 'BINTABLE'           / marks the beginning of a new HDU               \n",
       "BITPIX  =                    8 / array data type                                \n",
       "NAXIS   =                    2 / number of array dimensions                     \n",
       "NAXIS1  =                  728 / length of first array dimension                \n",
       "NAXIS2  =                 4397 / length of second array dimension               \n",
       "PCOUNT  =                    0 / group parameter count (not used)               \n",
       "GCOUNT  =                    1 / group count (not used)                         \n",
       "TFIELDS =                   13 / number of table fields                         \n",
       "TTYPE1  = 'TIME    '           / column title: data time stamps                 \n",
       "TFORM1  = 'D       '           / column format: 64-bit floating point           \n",
       "TUNIT1  = 'BJD - 2454833'      / column units: barycenter corrected JD          \n",
       "TDISP1  = 'D14.7   '           / column display format                          \n",
       "TTYPE2  = 'TIMECORR'           / column title: barycenter - timeslice correction\n",
       "TFORM2  = 'E       '           / column format: 32-bit floating point           \n",
       "TUNIT2  = 'd       '           / column units: day                              \n",
       "TDISP2  = 'E14.7   '           / column display format                          \n",
       "TTYPE3  = 'CADENCENO'          / column title: unique cadence number            \n",
       "TFORM3  = 'J       '           / column format: signed 32-bit integer           \n",
       "TDISP3  = 'I10     '           / column display format                          \n",
       "TTYPE4  = 'RAW_CNTS'           / column title: raw pixel counts                 \n",
       "TFORM4  = '25J     '           / column format: image of signed 32-bit integers \n",
       "TUNIT4  = 'count   '           / column units: count                            \n",
       "TDISP4  = 'I8      '           / column display format                          \n",
       "TDIM4   = '(5,5)   '           / column dimensions: pixel aperture array        \n",
       "TNULL4  =                   -1 / column null value indicator                    \n",
       "WCSN4P  = 'PHYSICAL'           / table column WCS name                          \n",
       "WCAX4P  =                    2 / table column physical WCS dimensions           \n",
       "1CTY4P  = 'RAWX    '           / table column physical WCS axis 1 type, CCD col \n",
       "2CTY4P  = 'RAWY    '           / table column physical WCS axis 2 type, CCD row \n",
       "1CUN4P  = 'PIXEL   '           / table column physical WCS axis 1 unit          \n",
       "2CUN4P  = 'PIXEL   '           / table column physical WCS axis 2 unit          \n",
       "1CRV4P  =                  680 / table column physical WCS ax 1 ref value       \n",
       "2CRV4P  =                  188 / table column physical WCS ax 2 ref value       \n",
       "1CDL4P  =                  1.0 / table column physical WCS a1 step              \n",
       "2CDL4P  =                  1.0 / table column physical WCS a2 step              \n",
       "1CRP4P  =                    1 / table column physical WCS a1 reference         \n",
       "2CRP4P  =                    1 / table column physical WCS a2 reference         \n",
       "WCAX4   =                    2 / number of WCS axes                             \n",
       "1CTYP4  = 'RA---TAN'           / right ascension coordinate type                \n",
       "2CTYP4  = 'DEC--TAN'           / declination coordinate type                    \n",
       "1CRPX4  =   3.4639721204714533 / [pixel] reference pixel along image axis 1     \n",
       "2CRPX4  =    3.504280481141336 / [pixel] reference pixel along image axis 2     \n",
       "1CRVL4  =   281.28811950000005 / [deg] right ascension at reference pixel       \n",
       "2CRVL4  =             42.45108 / [deg] declination at reference pixel           \n",
       "1CUNI4  = 'deg     '           / physical unit in column dimension              \n",
       "2CUNI4  = 'deg     '           / physical unit in row dimension                 \n",
       "1CDLT4  =   -0.001103269145489 / [deg] pixel scale in RA dimension              \n",
       "2CDLT4  =    0.001103269145489 / [deg] pixel scale in DEC dimension             \n",
       "11PC4   =   0.6350944649214317 / linear transformation matrix element cos(th)   \n",
       "12PC4   =  -0.7712659908386172 / linear transformation matrix element -sin(th)  \n",
       "21PC4   =   0.7729990437735491 / linear transformation matrix element sin(th)   \n",
       "22PC4   =   0.6358300203996362 / linear transformation matrix element cos(th)   \n",
       "TTYPE5  = 'FLUX    '           / column title: calibrated pixel flux            \n",
       "TFORM5  = '25E     '           / column format: image of 32-bit floating point  \n",
       "TUNIT5  = 'e-/s    '           / column units: electrons per second             \n",
       "TDISP5  = 'E14.7   '           / column display format                          \n",
       "TDIM5   = '(5,5)   '           / column dimensions: pixel aperture array        \n",
       "WCSN5P  = 'PHYSICAL'           / table column WCS name                          \n",
       "WCAX5P  =                    2 / table column physical WCS dimensions           \n",
       "1CTY5P  = 'RAWX    '           / table column physical WCS axis 1 type, CCD col \n",
       "2CTY5P  = 'RAWY    '           / table column physical WCS axis 2 type, CCD row \n",
       "1CUN5P  = 'PIXEL   '           / table column physical WCS axis 1 unit          \n",
       "2CUN5P  = 'PIXEL   '           / table column physical WCS axis 2 unit          \n",
       "1CRV5P  =                  680 / table column physical WCS ax 1 ref value       \n",
       "2CRV5P  =                  188 / table column physical WCS ax 2 ref value       \n",
       "1CDL5P  =                  1.0 / table column physical WCS a1 step              \n",
       "2CDL5P  =                  1.0 / table column physical WCS a2 step              \n",
       "1CRP5P  =                    1 / table column physical WCS a1 reference         \n",
       "2CRP5P  =                    1 / table column physical WCS a2 reference         \n",
       "WCAX5   =                    2 / number of WCS axes                             \n",
       "1CTYP5  = 'RA---TAN'           / right ascension coordinate type                \n",
       "2CTYP5  = 'DEC--TAN'           / declination coordinate type                    \n",
       "1CRPX5  =   3.4639721204714533 / [pixel] reference pixel along image axis 1     \n",
       "2CRPX5  =    3.504280481141336 / [pixel] reference pixel along image axis 2     \n",
       "1CRVL5  =   281.28811950000005 / [deg] right ascension at reference pixel       \n",
       "2CRVL5  =             42.45108 / [deg] declination at reference pixel           \n",
       "1CUNI5  = 'deg     '           / physical unit in column dimension              \n",
       "2CUNI5  = 'deg     '           / physical unit in row dimension                 \n",
       "1CDLT5  =   -0.001103269145489 / [deg] pixel scale in RA dimension              \n",
       "2CDLT5  =    0.001103269145489 / [deg] pixel scale in DEC dimension             \n",
       "11PC5   =   0.6350944649214317 / linear transformation matrix element cos(th)   \n",
       "12PC5   =  -0.7712659908386172 / linear transformation matrix element -sin(th)  \n",
       "21PC5   =   0.7729990437735491 / linear transformation matrix element sin(th)   \n",
       "22PC5   =   0.6358300203996362 / linear transformation matrix element cos(th)   \n",
       "TTYPE6  = 'FLUX_ERR'           / column title: 1-sigma calibrated uncertainty   \n",
       "TFORM6  = '25E     '           / column format: image of 32-bit floating point  \n",
       "TUNIT6  = 'e-/s    '           / column units: electrons per second (1-sigma)   \n",
       "TDISP6  = 'E14.7   '           / column display format                          \n",
       "TDIM6   = '(5,5)   '           / column dimensions: pixel aperture array        \n",
       "WCSN6P  = 'PHYSICAL'           / table column WCS name                          \n",
       "WCAX6P  =                    2 / table column physical WCS dimensions           \n",
       "1CTY6P  = 'RAWX    '           / table column physical WCS axis 1 type, CCD col \n",
       "2CTY6P  = 'RAWY    '           / table column physical WCS axis 2 type, CCD row \n",
       "1CUN6P  = 'PIXEL   '           / table column physical WCS axis 1 unit          \n",
       "2CUN6P  = 'PIXEL   '           / table column physical WCS axis 2 unit          \n",
       "1CRV6P  =                  680 / table column physical WCS ax 1 ref value       \n",
       "2CRV6P  =                  188 / table column physical WCS ax 2 ref value       \n",
       "1CDL6P  =                  1.0 / table column physical WCS a1 step              \n",
       "2CDL6P  =                  1.0 / table column physical WCS a2 step              \n",
       "1CRP6P  =                    1 / table column physical WCS a1 reference         \n",
       "2CRP6P  =                    1 / table column physical WCS a2 reference         \n",
       "WCAX6   =                    2 / number of WCS axes                             \n",
       "1CTYP6  = 'RA---TAN'           / right ascension coordinate type                \n",
       "2CTYP6  = 'DEC--TAN'           / declination coordinate type                    \n",
       "1CRPX6  =   3.4639721204714533 / [pixel] reference pixel along image axis 1     \n",
       "2CRPX6  =    3.504280481141336 / [pixel] reference pixel along image axis 2     \n",
       "1CRVL6  =   281.28811950000005 / [deg] right ascension at reference pixel       \n",
       "2CRVL6  =             42.45108 / [deg] declination at reference pixel           \n",
       "1CUNI6  = 'deg     '           / physical unit in column dimension              \n",
       "2CUNI6  = 'deg     '           / physical unit in row dimension                 \n",
       "1CDLT6  =   -0.001103269145489 / [deg] pixel scale in RA dimension              \n",
       "2CDLT6  =    0.001103269145489 / [deg] pixel scale in DEC dimension             \n",
       "11PC6   =   0.6350944649214317 / linear transformation matrix element cos(th)   \n",
       "12PC6   =  -0.7712659908386172 / linear transformation matrix element -sin(th)  \n",
       "21PC6   =   0.7729990437735491 / linear transformation matrix element sin(th)   \n",
       "22PC6   =   0.6358300203996362 / linear transformation matrix element cos(th)   \n",
       "TTYPE7  = 'FLUX_BKG'           / column title: calibrated background flux       \n",
       "TFORM7  = '25E     '           / column format: image of 32-bit floating point  \n",
       "TUNIT7  = 'e-/s    '           / column units: electrons per second             \n",
       "TDISP7  = 'E14.7   '           / column display format                          \n",
       "TDIM7   = '(5,5)   '           / column dimensions: pixel aperture array        \n",
       "WCSN7P  = 'PHYSICAL'           / table column WCS name                          \n",
       "WCAX7P  =                    2 / table column physical WCS dimensions           \n",
       "1CTY7P  = 'RAWX    '           / table column physical WCS axis 1 type, CCD col \n",
       "2CTY7P  = 'RAWY    '           / table column physical WCS axis 2 type, CCD row \n",
       "1CUN7P  = 'PIXEL   '           / table column physical WCS axis 1 unit          \n",
       "2CUN7P  = 'PIXEL   '           / table column physical WCS axis 2 unit          \n",
       "1CRV7P  =                  680 / table column physical WCS ax 1 ref value       \n",
       "2CRV7P  =                  188 / table column physical WCS ax 2 ref value       \n",
       "1CDL7P  =                  1.0 / table column physical WCS a1 step              \n",
       "2CDL7P  =                  1.0 / table column physical WCS a2 step              \n",
       "1CRP7P  =                    1 / table column physical WCS a1 reference         \n",
       "2CRP7P  =                    1 / table column physical WCS a2 reference         \n",
       "WCAX7   =                    2 / number of WCS axes                             \n",
       "1CTYP7  = 'RA---TAN'           / right ascension coordinate type                \n",
       "2CTYP7  = 'DEC--TAN'           / declination coordinate type                    \n",
       "1CRPX7  =   3.4639721204714533 / [pixel] reference pixel along image axis 1     \n",
       "2CRPX7  =    3.504280481141336 / [pixel] reference pixel along image axis 2     \n",
       "1CRVL7  =   281.28811950000005 / [deg] right ascension at reference pixel       \n",
       "2CRVL7  =             42.45108 / [deg] declination at reference pixel           \n",
       "1CUNI7  = 'deg     '           / physical unit in column dimension              \n",
       "2CUNI7  = 'deg     '           / physical unit in row dimension                 \n",
       "1CDLT7  =   -0.001103269145489 / [deg] pixel scale in RA dimension              \n",
       "2CDLT7  =    0.001103269145489 / [deg] pixel scale in DEC dimension             \n",
       "11PC7   =   0.6350944649214317 / linear transformation matrix element cos(th)   \n",
       "12PC7   =  -0.7712659908386172 / linear transformation matrix element -sin(th)  \n",
       "21PC7   =   0.7729990437735491 / linear transformation matrix element sin(th)   \n",
       "22PC7   =   0.6358300203996362 / linear transformation matrix element cos(th)   \n",
       "TTYPE8  = 'FLUX_BKG_ERR'       / column title: 1-sigma cal. background uncertain\n",
       "TFORM8  = '25E     '           / column format: image of 32-bit floating point  \n",
       "TUNIT8  = 'e-/s    '           / column units: electrons per second (1-sigma)   \n",
       "TDISP8  = 'E14.7   '           / column display format                          \n",
       "TDIM8   = '(5,5)   '           / column dimensions: pixel aperture array        \n",
       "WCSN8P  = 'PHYSICAL'           / table column WCS name                          \n",
       "WCAX8P  =                    2 / table column physical WCS dimensions           \n",
       "1CTY8P  = 'RAWX    '           / table column physical WCS axis 1 type, CCD col \n",
       "2CTY8P  = 'RAWY    '           / table column physical WCS axis 2 type, CCD row \n",
       "1CUN8P  = 'PIXEL   '           / table column physical WCS axis 1 unit          \n",
       "2CUN8P  = 'PIXEL   '           / table column physical WCS axis 2 unit          \n",
       "1CRV8P  =                  680 / table column physical WCS ax 1 ref value       \n",
       "2CRV8P  =                  188 / table column physical WCS ax 2 ref value       \n",
       "1CDL8P  =                  1.0 / table column physical WCS a1 step              \n",
       "2CDL8P  =                  1.0 / table column physical WCS a2 step              \n",
       "1CRP8P  =                    1 / table column physical WCS a1 reference         \n",
       "2CRP8P  =                    1 / table column physical WCS a2 reference         \n",
       "WCAX8   =                    2 / number of WCS axes                             \n",
       "1CTYP8  = 'RA---TAN'           / right ascension coordinate type                \n",
       "2CTYP8  = 'DEC--TAN'           / declination coordinate type                    \n",
       "1CRPX8  =   3.4639721204714533 / [pixel] reference pixel along image axis 1     \n",
       "2CRPX8  =    3.504280481141336 / [pixel] reference pixel along image axis 2     \n",
       "1CRVL8  =   281.28811950000005 / [deg] right ascension at reference pixel       \n",
       "2CRVL8  =             42.45108 / [deg] declination at reference pixel           \n",
       "1CUNI8  = 'deg     '           / physical unit in column dimension              \n",
       "2CUNI8  = 'deg     '           / physical unit in row dimension                 \n",
       "1CDLT8  =   -0.001103269145489 / [deg] pixel scale in RA dimension              \n",
       "2CDLT8  =    0.001103269145489 / [deg] pixel scale in DEC dimension             \n",
       "11PC8   =   0.6350944649214317 / linear transformation matrix element cos(th)   \n",
       "12PC8   =  -0.7712659908386172 / linear transformation matrix element -sin(th)  \n",
       "21PC8   =   0.7729990437735491 / linear transformation matrix element sin(th)   \n",
       "22PC8   =   0.6358300203996362 / linear transformation matrix element cos(th)   \n",
       "TTYPE9  = 'COSMIC_RAYS'        / column title: cosmic ray detections            \n",
       "TFORM9  = '25E     '           / column format: image of 32-bit floating point  \n",
       "TUNIT9  = 'e-/s    '           / column units: electrons per second             \n",
       "TDISP9  = 'E14.7   '           / column display format                          \n",
       "TDIM9   = '(5,5)   '           / column dimensions: pixel aperture array        \n",
       "WCSN9P  = 'PHYSICAL'           / table column WCS name                          \n",
       "WCAX9P  =                    2 / table column physical WCS dimensions           \n",
       "1CTY9P  = 'RAWX    '           / table column physical WCS axis 1 type, CCD col \n",
       "2CTY9P  = 'RAWY    '           / table column physical WCS axis 2 type, CCD row \n",
       "1CUN9P  = 'PIXEL   '           / table column physical WCS axis 1 unit          \n",
       "2CUN9P  = 'PIXEL   '           / table column physical WCS axis 2 unit          \n",
       "1CRV9P  =                  680 / table column physical WCS ax 1 ref value       \n",
       "2CRV9P  =                  188 / table column physical WCS ax 2 ref value       \n",
       "1CDL9P  =                  1.0 / table column physical WCS a1 step              \n",
       "2CDL9P  =                  1.0 / table column physical WCS a2 step              \n",
       "1CRP9P  =                    1 / table column physical WCS a1 reference         \n",
       "2CRP9P  =                    1 / table column physical WCS a2 reference         \n",
       "WCAX9   =                    2 / number of WCS axes                             \n",
       "1CTYP9  = 'RA---TAN'           / right ascension coordinate type                \n",
       "2CTYP9  = 'DEC--TAN'           / declination coordinate type                    \n",
       "1CRPX9  =   3.4639721204714533 / [pixel] reference pixel along image axis 1     \n",
       "2CRPX9  =    3.504280481141336 / [pixel] reference pixel along image axis 2     \n",
       "1CRVL9  =   281.28811950000005 / [deg] right ascension at reference pixel       \n",
       "2CRVL9  =             42.45108 / [deg] declination at reference pixel           \n",
       "1CUNI9  = 'deg     '           / physical unit in column dimension              \n",
       "2CUNI9  = 'deg     '           / physical unit in row dimension                 \n",
       "1CDLT9  =   -0.001103269145489 / [deg] pixel scale in RA dimension              \n",
       "2CDLT9  =    0.001103269145489 / [deg] pixel scale in DEC dimension             \n",
       "11PC9   =   0.6350944649214317 / linear transformation matrix element cos(th)   \n",
       "12PC9   =  -0.7712659908386172 / linear transformation matrix element -sin(th)  \n",
       "21PC9   =   0.7729990437735491 / linear transformation matrix element sin(th)   \n",
       "22PC9   =   0.6358300203996362 / linear transformation matrix element cos(th)   \n",
       "TTYPE10 = 'QUALITY '           / column title: pixel quality flags              \n",
       "TFORM10 = 'J       '           / column format: signed 32-bit integer           \n",
       "TDISP10 = 'B24.24  '           / column display format                          \n",
       "TTYPE11 = 'POS_CORR1'          / column title: column position correction       \n",
       "TFORM11 = 'E       '           / column format: 32-bit floating point           \n",
       "TUNIT11 = 'pixel   '           / column units: pixel                            \n",
       "TDISP11 = 'E14.7   '           / column display format                          \n",
       "TTYPE12 = 'POS_CORR2'          / column title: row position correction          \n",
       "TFORM12 = 'E       '           / column format: 32-bit floating point           \n",
       "TUNIT12 = 'pixel   '           / column units: pixel                            \n",
       "TDISP12 = 'E14.7   '           / column display format                          \n",
       "TTYPE13 = 'RB_LEVEL'           / column title: rolling band level               \n",
       "TFORM13 = '25E     '           / column format: image of 32-bit floating point  \n",
       "TUNIT13 = 'sigma   '           / column units: detection significance           \n",
       "TDISP13 = 'E14.7   '           / column display format                          \n",
       "TDIM13  = '(5,5)   '           / column dimensions: pixel aperture array        \n",
       "INHERIT =                    T / inherit the primary header                     \n",
       "EXTNAME = 'TARGETTABLES'       / name of extension                              \n",
       "EXTVER  =                    1 / extension version number (not format version)  \n",
       "TELESCOP= 'Kepler  '           / telescope                                      \n",
       "INSTRUME= 'Kepler Photometer'  / detector type                                  \n",
       "OBJECT  = 'KIC 6922244'        / string version of target id                    \n",
       "KEPLERID=              6922244 / unique Kepler target identifier                \n",
       "RADESYS = 'ICRS    '           / reference frame of celestial coordinates       \n",
       "RA_OBJ  =           281.288120 / [deg] right ascension                          \n",
       "DEC_OBJ =            42.451080 / [deg] declination                              \n",
       "EQUINOX =               2000.0 / equinox of celestial coordinate system         \n",
       "EXPOSURE=          78.16437411 / [d] time on source                             \n",
       "TIMEREF = 'SOLARSYSTEM'        / barycentric correction applied to times        \n",
       "TASSIGN = 'SPACECRAFT'         / where time is assigned                         \n",
       "TIMESYS = 'TDB     '           / time system is barycentric JD                  \n",
       "BJDREFI =              2454833 / integer part of BJD reference date             \n",
       "BJDREFF =           0.00000000 / fraction of the day in BJD reference date      \n",
       "TIMEUNIT= 'd       '           / time unit for TIME, TSTART and TSTOP           \n",
       "TELAPSE =          89.84761299 / [d] TSTOP - TSTART                             \n",
       "LIVETIME=          82.71685005 / [d] TELAPSE multiplied by DEADC                \n",
       "TSTART  =         352.36610827 / observation start time in BJD-BJDREF           \n",
       "TSTOP   =         442.21372126 / observation stop time in BJD-BJDREF            \n",
       "LC_START=       55184.87773552 / mid point of first cadence in MJD              \n",
       "LC_END  =       55274.70383812 / mid point of last cadence in MJD               \n",
       "DEADC   =           0.92063492 / deadtime correction                            \n",
       "TIMEPIXR=                  0.5 / bin time beginning=0 middle=0.5 end=1          \n",
       "TIERRELA=             5.78E-07 / [d] relative time error                        \n",
       "TIERABSO=                      / [d] absolute time error                        \n",
       "INT_TIME=       6.019802903270 / [s] photon accumulation time per frame         \n",
       "READTIME=       0.518948526144 / [s] readout time per frame                     \n",
       "FRAMETIM=       6.538751429414 / [s] frame time (INT_TIME + READTIME)           \n",
       "NUM_FRM =                  270 / number of frames per time stamp                \n",
       "TIMEDEL =     0.02043359821692 / [d] time resolution of data                    \n",
       "DATE-OBS= '2009-12-19T20:49:13.619Z' / TSTART as UTC calendar date              \n",
       "DATE-END= '2010-03-19T17:08:14.343Z' / TSTOP as UTC calendar date               \n",
       "BACKAPP =                    T / background is subtracted                       \n",
       "DEADAPP =                    T / deadtime applied                               \n",
       "VIGNAPP =                    T / vignetting or collimator correction applied    \n",
       "GAIN    =               115.49 / [electrons/count] channel gain                 \n",
       "READNOIS=            83.014212 / [electrons] read noise                         \n",
       "NREADOUT=                  270 / number of read per cadence                     \n",
       "TIMSLICE=                    1 / time-slice readout sequence section            \n",
       "MEANBLCK=                  715 / [count] FSW mean black level                   \n",
       "LCFXDOFF=               419400 / long cadence fixed offset                      \n",
       "SCFXDOFF=               219400 / short cadence fixed offset                     \n",
       "CDPP3_0 =    80.60697937011719 / [ppm] RMS CDPP on 3.0-hr time scales           \n",
       "CDPP6_0 =    66.75656127929688 / [ppm] RMS CDPP on 6.0-hr time scales           \n",
       "CDPP12_0=     59.8421630859375 / [ppm] RMS CDPP on 12.0-hr time scales          \n",
       "CROWDSAP=               1.0000 / Ratio of target flux to total flux in op. ap.  \n",
       "FLFRCSAP=               0.8286 / Frac. of target flux w/in the op. aperture     \n",
       "DBCOLCO =                 1000 / Column cutoff used by Dynablack                \n",
       "DBTHRES =   2.8321184431653808 / [e-/s] Flux threshold used by Dynablack        \n",
       "RBTDUR1 =                    3 / rootname of residual baseline image            \n",
       "RBTDUR2 =                    6 / rootname of residual baseline image            \n",
       "RBTDUR3 =                   12 / rootname of residual baseline image            \n",
       "RBTDUR4 =                   24 / rootname of residual baseline image            \n",
       "RBTDUR5 =                   31 / rootname of residual baseline image            \n",
       "BLKALGO = 'dynablack'          / black algorithm used                           \n",
       "CHECKSUM= '5BMFA9JF6AJFA7JF'   / HDU checksum updated 2015-09-23T02:52:42Z      "
      ]
     },
     "execution_count": 40,
     "metadata": {},
     "output_type": "execute_result"
    }
   ],
   "source": [
    "h.header(1)"
   ]
  },
  {
   "cell_type": "markdown",
   "metadata": {},
   "source": [
    "It is the TIME, FLUX and FLUX_ERR columns that we are most interested in. In order to view this data let's first take a look at the shape of it. "
   ]
  },
  {
   "cell_type": "code",
   "execution_count": 48,
   "metadata": {},
   "outputs": [
    {
     "data": {
      "text/plain": [
       "(4028, 5, 5)"
      ]
     },
     "execution_count": 48,
     "metadata": {},
     "output_type": "execute_result"
    }
   ],
   "source": [
    "h.shape"
   ]
  },
  {
   "cell_type": "markdown",
   "metadata": {},
   "source": [
    "The FLUX data is a 4028x5x5 array. (PyKE has trimmed out bad cadences for you, including safe modes, coarse points and thruster firings.) The first axis is the 'time' axis, and the images themselves are 5 pixels by 5 pixels. Let's take a look at the first image."
   ]
  },
  {
   "cell_type": "code",
   "execution_count": 59,
   "metadata": {},
   "outputs": [
    {
     "data": {
      "image/png": "[encoded data removed]",
      "text/plain": [
       "<matplotlib.figure.Figure at 0x115c67908>"
      ]
     },
     "metadata": {},
     "output_type": "display_data"
    }
   ],
   "source": [
    "import matplotlib.pyplot as plt\n",
    "%matplotlib inline\n",
    "h.plot(0)"
   ]
  },
  {
   "cell_type": "markdown",
   "metadata": {},
   "source": [
    "There are one of these images for every Kepler cadence. Each of the pixels are 4 arcseconds ($4\"$) across. The point spread function (PSF) of the source makes the light from the star fall into several different pixels. This can be seen in the image above. Because of this we have to sum up many pixels in order to collect all the light from the source. To do this we can sum up all the pixels in an 'aperture'. An aperture is a mask where we take only some pixels which are roughly only related to the star in question. This is generated by the original Kepler pipeline. Let's take a look at the original aperture mask"
   ]
  },
  {
   "cell_type": "code",
   "execution_count": 65,
   "metadata": {},
   "outputs": [
    {
     "data": {
      "text/plain": [
       "array([[False, False, False, False, False],\n",
       "       [False, False,  True,  True, False],\n",
       "       [False, False,  True,  True, False],\n",
       "       [False,  True,  True,  True, False],\n",
       "       [False, False, False,  True, False]], dtype=bool)"
      ]
     },
     "execution_count": 65,
     "metadata": {},
     "output_type": "execute_result"
    }
   ],
   "source": [
    "h.aperture_mask"
   ]
  },
  {
   "cell_type": "code",
   "execution_count": 66,
   "metadata": {},
   "outputs": [
    {
     "data": {
      "text/plain": [
       "<matplotlib.text.Text at 0x114e8e240>"
      ]
     },
     "execution_count": 66,
     "metadata": {},
     "output_type": "execute_result"
    },
    {
     "data": {
      "image/png": "[encoded data removed]",
      "text/plain": [
       "<matplotlib.figure.Figure at 0x115f63da0>"
      ]
     },
     "metadata": {},
     "output_type": "display_data"
    }
   ],
   "source": [
    "plt.imshow(h.aperture_mask,cmap=plt.get_cmap('bwr'),origin='bottom')\n",
    "plt.xlabel('X Pixel')\n",
    "plt.ylabel('Y Pixel')"
   ]
  },
  {
   "cell_type": "markdown",
   "metadata": {},
   "source": [
    "Now that we have the aperture we can create a Simple Aperture Photometry light curve in the next notebook."
   ]
  },
  {
   "cell_type": "markdown",
   "metadata": {},
   "source": [
    "<!--NAVIGATION-->\n",
    "< [Querying NExSci](01.01-Querying-NEXSci.ipynb) | [Contents](index.ipynb) | [What are Light Curve Files?](01.03-Investigating-LC-Files.ipynb) >"
   ]
  }
 ],
 "metadata": {
  "kernelspec": {
   "display_name": "Python 3",
   "language": "python",
   "name": "python3"
  },
  "language_info": {
   "codemirror_mode": {
    "name": "ipython",
    "version": 3
   },
   "file_extension": ".py",
   "mimetype": "text/x-python",
   "name": "python",
   "nbconvert_exporter": "python",
   "pygments_lexer": "ipython3",
   "version": "3.6.2"
  }
 },
 "nbformat": 4,
 "nbformat_minor": 2
}
